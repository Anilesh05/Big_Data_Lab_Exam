{
  "nbformat": 4,
  "nbformat_minor": 0,
  "metadata": {
    "colab": {
      "provenance": [],
      "authorship_tag": "ABX9TyPtXKsC6/ICMO+FlOnxBu4E",
      "include_colab_link": true
    },
    "kernelspec": {
      "name": "python3",
      "display_name": "Python 3"
    },
    "language_info": {
      "name": "python"
    }
  },
  "cells": [
    {
      "cell_type": "markdown",
      "metadata": {
        "id": "view-in-github",
        "colab_type": "text"
      },
      "source": [
        "<a href=\"https://colab.research.google.com/github/Anilesh05/Big_Data_Lab_Exam/blob/main/Find_tags_for_movie.ipynb\" target=\"_parent\"><img src=\"https://colab.research.google.com/assets/colab-badge.svg\" alt=\"Open In Colab\"/></a>"
      ]
    },
    {
      "cell_type": "markdown",
      "source": [
        "# ***Downloading and installing hadoop***"
      ],
      "metadata": {
        "id": "Zi9bK5z88-Pc"
      }
    },
    {
      "cell_type": "code",
      "execution_count": null,
      "metadata": {
        "id": "Gp7HsNH56ldg"
      },
      "outputs": [],
      "source": [
        "!apt-get install openjdk-8-jdk\n",
        "!wget https://dlcdn.apache.org/hadoop/common/hadoop-3.3.6/hadoop-3.3.6.tar.gz\n",
        "!tar fx hadoop-3.3.6.tar.gz\n",
        "import os\n",
        "os.environ[\"JAVA_HOME\"] = \"/usr/lib/jvm/java-8-openjdk-amd64\"\n",
        "os.environ[\"HADOOP_HOME\"] = \"/content/hadoop-3.3.6\"\n",
        "!ln -s /content/hadoop-3.3.6/bin/* /usr/bin"
      ]
    },
    {
      "cell_type": "markdown",
      "source": [
        "# ***Create ' movie_lens_data.txt ' file***"
      ],
      "metadata": {
        "id": "yxYjNtCmCtud"
      }
    },
    {
      "cell_type": "code",
      "source": [
        "%%writefile movie_lens_data.txt\n",
        "\n",
        "UserID::MovieID::Moviename::Tag::Timestamp\n",
        "01::01::Spider-Man: No Way Home (2021)::action::1648847400\n",
        "01::01::Spider-Man: No Way Home (2021)::adventure::1648847400\n",
        "02::02::Dune (2021)::sci-fi::1648847400\n",
        "02::02::Dune (2021)::fantasy::1648847400\n",
        "03::03::The Matrix Resurrections (2021)::action::1648847400\n",
        "03::03::The Matrix Resurrections (2021)::sci-fi::1648847400\n",
        "04::04::Black Widow (2021)::action::1648847400\n",
        "04::04::Black Widow (2021)::adventure::1648847400\n",
        "05::05::Shang-Chi and the Legend of the Ten Rings (2021)::action::1648847400\n",
        "05::05::Shang-Chi and the Legend of the Ten Rings (2021)::fantasy::1648847400\n",
        "06::06::No Time to Die (2021)::action::1648847400\n",
        "06::06::No Time to Die (2021)::adventure::1648847400\n",
        "07::07::Eternals (2021)::action::1648847400\n",
        "07::07::Eternals (2021)::fantasy::1648847400\n",
        "08::08::Free Guy (2021)::comedy::1648847400\n",
        "08::08::Free Guy (2021)::adventure::1648847400\n",
        "09::09::Jungle Cruise (2021)::adventure::1648847400\n",
        "09::09::Jungle Cruise (2021)::fantasy::1648847400\n",
        "10::10::Venom: Let There Be Carnage (2021)::action::1648847400\n",
        "10::10::Venom: Let There Be Carnage (2021)::sci-fi::1648847400\n",
        "11::11::Inception (2010)::sci-fi::1648847400\n",
        "11::11::Inception (2010)::thriller::1648847400\n",
        "12::12::The Dark Knight (2008)::action::1648847400\n",
        "12::12::The Dark Knight (2008)::crime::1648847400\n",
        "13::13::Interstellar (2014)::sci-fi::1648847400\n",
        "13::13::Interstellar (2014)::adventure::1648847400\n",
        "14::14::Fight Club (1999)::drama::1648847400\n",
        "14::14::Fight Club (1999)::psychological::1648847400\n",
        "15::15::The Shawshank Redemption (1994)::drama::1648847400\n",
        "15::15::The Shawshank Redemption (1994)::inspirational::1648847400\n",
        "16::16::Pulp Fiction (1994)::crime::1648847400\n",
        "16::16::Pulp Fiction (1994)::black comedy::1648847400\n",
        "17::17::Forrest Gump (1994)::drama::1648847400\n",
        "17::17::Forrest Gump (1994)::romance::1648847400\n",
        "18::18::The Godfather (1972)::crime::1648847400\n",
        "18::18::The Godfather (1972)::mafia::1648847400\n",
        "19::19::The Lord of the Rings: The Fellowship of the Ring (2001)::fantasy::1648847400\n",
        "19::19::The Lord of the Rings: The Fellowship of the Ring (2001)::adventure::1648847400\n",
        "20::20::The Matrix (1999)::action::1648847400\n",
        "20::20::The Matrix (1999)::cyberpunk::1648847400\n"
      ],
      "metadata": {
        "id": "1kuRzPvsBLvl"
      },
      "execution_count": null,
      "outputs": []
    }
  ]
}