{
  "nbformat": 4,
  "nbformat_minor": 0,
  "metadata": {
    "colab": {
      "provenance": [],
      "include_colab_link": true
    },
    "kernelspec": {
      "name": "python3",
      "display_name": "Python 3"
    },
    "language_info": {
      "name": "python"
    }
  },
  "cells": [
    {
      "cell_type": "markdown",
      "metadata": {
        "id": "view-in-github",
        "colab_type": "text"
      },
      "source": [
        "<a href=\"https://colab.research.google.com/github/Anilesh05/Big_Data_Lab_Exam/blob/main/Analyse_whether_day_is_shinny_or_cool.ipynb\" target=\"_parent\"><img src=\"https://colab.research.google.com/assets/colab-badge.svg\" alt=\"Open In Colab\"/></a>"
      ]
    },
    {
      "cell_type": "markdown",
      "source": [
        "## Download and install hadoop"
      ],
      "metadata": {
        "id": "BPJXWgx7hu12"
      }
    },
    {
      "cell_type": "code",
      "execution_count": null,
      "metadata": {
        "id": "_UR7yMNueALI"
      },
      "outputs": [],
      "source": [
        "!apt-get install openjdk-8-jdk\n",
        "!wget https://dlcdn.apache.org/hadoop/common/hadoop-3.3.6/hadoop-3.3.6.tar.gz\n",
        "!tar fx hadoop-3.3.6.tar.gz\n",
        "import os\n",
        "os.environ[\"JAVA_HOME\"] = \"/usr/lib/jvm/java-8-openjdk-amd64\"\n",
        "os.environ[\"HADOOP_HOME\"] = \"/content/hadoop-3.3.6\"\n",
        "!ln -s /content/hadoop-3.3.6/bin/* /usr/bin"
      ]
    },
    {
      "cell_type": "code",
      "source": [
        "%%writefile weather.txt\n",
        "2024-04-01,20\n",
        "2024-04-02,28\n",
        "2024-04-03,22\n",
        "2024-04-04,30\n",
        "2024-04-05,18\n",
        "2024-04-06,25\n",
        "2024-04-07,20\n",
        "2024-04-08,27\n",
        "2024-04-09,24\n",
        "2024-04-10,29\n",
        "2024-04-11,26\n",
        "2024-04-12,21\n",
        "2024-04-13,31\n",
        "2024-04-14,23\n",
        "2024-04-15,19\n",
        "2024-04-16,26\n",
        "2024-04-17,20\n",
        "2024-04-18,28\n",
        "2024-04-19,22\n",
        "2024-04-20,30\n",
        "2024-04-21,18\n",
        "2024-04-22,25\n",
        "2024-04-23,20\n",
        "2024-04-24,27\n",
        "2024-04-25,24\n",
        "2024-04-26,29\n",
        "2024-04-27,26\n",
        "2024-04-28,21\n",
        "2024-04-29,31\n",
        "2024-04-30,23"
      ],
      "metadata": {
        "id": "3IuzcKMOiaMV"
      },
      "execution_count": null,
      "outputs": []
    }
  ]
}