{
  "nbformat": 4,
  "nbformat_minor": 0,
  "metadata": {
    "colab": {
      "provenance": [],
      "include_colab_link": true
    },
    "kernelspec": {
      "name": "python3",
      "display_name": "Python 3"
    },
    "language_info": {
      "name": "python"
    }
  },
  "cells": [
    {
      "cell_type": "markdown",
      "metadata": {
        "id": "view-in-github",
        "colab_type": "text"
      },
      "source": [
        "<a href=\"https://colab.research.google.com/github/Anilesh05/Big_Data_Lab_Exam/blob/main/Implement_k_means_clustering.ipynb\" target=\"_parent\"><img src=\"https://colab.research.google.com/assets/colab-badge.svg\" alt=\"Open In Colab\"/></a>"
      ]
    },
    {
      "cell_type": "markdown",
      "source": [
        "## Download and install the apache hadoop"
      ],
      "metadata": {
        "id": "Zi9bK5z88-Pc"
      }
    },
    {
      "cell_type": "code",
      "execution_count": null,
      "metadata": {
        "id": "Gp7HsNH56ldg"
      },
      "outputs": [],
      "source": [
        "!apt-get install openjdk-8-jdk\n",
        "!wget https://dlcdn.apache.org/hadoop/common/hadoop-3.3.6/hadoop-3.3.6.tar.gz\n",
        "!tar fx hadoop-3.3.6.tar.gz\n",
        "import os\n",
        "os.environ[\"JAVA_HOME\"] = \"/usr/lib/jvm/java-8-openjdk-amd64\"\n",
        "os.environ[\"HADOOP_HOME\"] = \"/content/hadoop-3.3.6\"\n",
        "!ln -s /content/hadoop-3.3.6/bin/* /usr/bin"
      ]
    },
    {
      "cell_type": "markdown",
      "source": [
        "## *Create centroids.txt file*"
      ],
      "metadata": {
        "id": "yxYjNtCmCtud"
      }
    },
    {
      "cell_type": "code",
      "source": [
        "%%writefile centroids.txt\n",
        "1.0,2.0\n",
        "5.0,6.0\n",
        "10.0,11.0"
      ],
      "metadata": {
        "id": "ymK_CwxAg-x6"
      },
      "execution_count": null,
      "outputs": []
    },
    {
      "cell_type": "markdown",
      "source": [
        "## *Create points.txt file*"
      ],
      "metadata": {
        "id": "BAs7r8swCyB1"
      }
    },
    {
      "cell_type": "code",
      "source": [
        "%%writefile points.txt\n",
        "1.0,2.0\n",
        "2.0,3.0\n",
        "3.0,4.0\n",
        "4.0,5.0\n",
        "5.0,6.0\n",
        "6.0,7.0\n",
        "7.0,8.0\n",
        "8.0,9.0\n",
        "9.0,10.0\n",
        "10.0,11.0\n",
        "11.0,12.0\n",
        "12.0,13.0\n",
        "13.0,14.0\n",
        "14.0,15.0\n",
        "15.0,16.0"
      ],
      "metadata": {
        "id": "drJkRCHchBp1"
      },
      "execution_count": null,
      "outputs": []
    }
  ]
}