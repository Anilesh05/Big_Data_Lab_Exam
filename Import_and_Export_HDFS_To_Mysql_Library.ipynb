{
  "cells": [
    {
      "cell_type": "markdown",
      "metadata": {
        "id": "view-in-github",
        "colab_type": "text"
      },
      "source": [
        "<a href=\"https://colab.research.google.com/github/Anilesh05/Big_Data_Lab_Exam/blob/main/Import_and_Export_HDFS_To_Mysql_Library.ipynb\" target=\"_parent\"><img src=\"https://colab.research.google.com/assets/colab-badge.svg\" alt=\"Open In Colab\"/></a>"
      ]
    },
    {
      "cell_type": "markdown",
      "metadata": {
        "id": "vGkDFef-3zQh"
      },
      "source": [
        "# ***Installing jdk and hadoop***"
      ]
    },
    {
      "cell_type": "code",
      "execution_count": null,
      "metadata": {
        "id": "KoauV0adsTkV"
      },
      "outputs": [],
      "source": [
        "!apt-get install openjdk-8-jdk\n",
        "!wget https://dlcdn.apache.org/hadoop/common/hadoop-2.10.2/hadoop-2.10.2.tar.gz\n",
        "!tar xf hadoop-2.10.2.tar.gz\n",
        "\n",
        "import os\n",
        "os.environ[\"JAVA_HOME\"] = \"/usr/lib/jvm/java-8-openjdk-amd64\"\n",
        "os.environ[\"HADOOP_HOME\"] = \"/content/hadoop-2.10.2\"\n",
        "os.environ[\"HADOOP_COMMON_HOME\"] = \"/content/hadoop-2.10.2\"\n",
        "os.environ[\"HADOOP_MAPRED_HOME\"] = \"/content/hadoop-2.10.2\"\n",
        "os.environ[\"PATH\"] = os.environ[\"HADOOP_HOME\"] + \"/bin:\" + os.environ[\"PATH\"]\n"
      ]
    },
    {
      "cell_type": "markdown",
      "metadata": {
        "id": "JNqdcQ1I3hur"
      },
      "source": [
        "# ***Installing sqoop***"
      ]
    },
    {
      "cell_type": "code",
      "execution_count": null,
      "metadata": {
        "id": "iefFNUqSyTdV"
      },
      "outputs": [],
      "source": [
        "!wget https://archive.apache.org/dist/sqoop/1.4.6/sqoop-1.4.6.bin__hadoop-2.0.4-alpha.tar.gz\n",
        "!tar -xvf sqoop-1.4.6.bin__hadoop-2.0.4-alpha.tar.gz\n",
        "\n",
        "import os\n",
        "os.environ[\"SQOOP_HOME\"] = \"/content/sqoop-1.4.6.bin__hadoop-2.0.4-alpha\"\n",
        "os.environ[\"PATH\"] = os.environ[\"SQOOP_HOME\"] + \"/bin:\" + os.environ[\"PATH\"]\n",
        "\n",
        "!cp /content/sqoop-1.4.6.bin__hadoop-2.0.4-alpha/conf/sqoop-env-template.sh /content/sqoop-1.4.6.bin__hadoop-2.0.4-alpha/conf/sqoop-env.sh\n",
        "!echo \"export HADOOP_COMMON_HOME=/content/hadoop-2.10.2\" >> /content/sqoop-1.4.6.bin__hadoop-2.0.4-alpha/conf/sqoop-env.sh\n",
        "!echo \"export HADOOP_MAPRED_HOME=/content/hadoop-2.10.2\" >> /content/sqoop-1.4.6.bin__hadoop-2.0.4-alpha/sqoop-env.sh"
      ]
    },
    {
      "cell_type": "markdown",
      "metadata": {
        "id": "fbP_r2Gz3NKE"
      },
      "source": [
        "# ***Installing Mysql-Connector***"
      ]
    },
    {
      "cell_type": "code",
      "execution_count": null,
      "metadata": {
        "id": "R2NGGvtzyhjb"
      },
      "outputs": [],
      "source": [
        "!wget https://dev.mysql.com/get/Downloads/Connector-J/mysql-connector-j-8.3.0.tar.gz\n",
        "!tar xf mysql-connector-j-8.3.0.tar.gz\n",
        "!cp /content/mysql-connector-j-8.3.0/mysql-connector-j-8.3.0.jar /content/sqoop-1.4.6.bin__hadoop-2.0.4-alpha/lib"
      ]
    },
    {
      "cell_type": "markdown",
      "metadata": {
        "id": "I87znuwZ2f9b"
      },
      "source": [
        "# ***Installing Mysql Server***\n"
      ]
    },
    {
      "cell_type": "code",
      "execution_count": null,
      "metadata": {
        "id": "rlhJFIe-yltk"
      },
      "outputs": [],
      "source": [
        "!apt-get -y install mysql-server\n",
        "!service mysql start\n",
        "!pip install mysql-connector-python\n",
        "!mysql -e \"ALTER USER 'root'@'localhost' IDENTIFIED WITH 'mysql_native_password' BY 'root';FLUSH PRIVILEGES;\""
      ]
    }
  ],
  "metadata": {
    "colab": {
      "provenance": [],
      "authorship_tag": "ABX9TyP4XCchc83KTx/Bsax6z34Z",
      "include_colab_link": true
    },
    "kernelspec": {
      "display_name": "Python 3",
      "name": "python3"
    },
    "language_info": {
      "name": "python"
    }
  },
  "nbformat": 4,
  "nbformat_minor": 0
}