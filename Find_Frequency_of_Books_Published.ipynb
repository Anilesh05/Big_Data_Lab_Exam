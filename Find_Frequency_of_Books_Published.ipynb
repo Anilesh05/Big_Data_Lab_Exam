{
  "nbformat": 4,
  "nbformat_minor": 0,
  "metadata": {
    "colab": {
      "provenance": [],
      "authorship_tag": "ABX9TyMB+SjsiezSSNnkcIsU4oBg",
      "include_colab_link": true
    },
    "kernelspec": {
      "name": "python3",
      "display_name": "Python 3"
    },
    "language_info": {
      "name": "python"
    }
  },
  "cells": [
    {
      "cell_type": "markdown",
      "metadata": {
        "id": "view-in-github",
        "colab_type": "text"
      },
      "source": [
        "<a href=\"https://colab.research.google.com/github/Anilesh05/Big_Data_Lab_Exam/blob/main/Find_Frequency_of_Books_Published.ipynb\" target=\"_parent\"><img src=\"https://colab.research.google.com/assets/colab-badge.svg\" alt=\"Open In Colab\"/></a>"
      ]
    },
    {
      "cell_type": "markdown",
      "source": [
        "# ***Download and install hadoop***"
      ],
      "metadata": {
        "id": "BPJXWgx7hu12"
      }
    },
    {
      "cell_type": "code",
      "execution_count": null,
      "metadata": {
        "id": "2zFaK5sE97ys"
      },
      "outputs": [],
      "source": [
        "!apt-get install openjdk-8-jdk\n",
        "!wget https://dlcdn.apache.org/hadoop/common/hadoop-3.3.6/hadoop-3.3.6.tar.gz\n",
        "!tar fx hadoop-3.3.6.tar.gz\n",
        "import os\n",
        "os.environ[\"JAVA_HOME\"] = \"/usr/lib/jvm/java-8-openjdk-amd64\"\n",
        "os.environ[\"HADOOP_HOME\"] = \"/content/hadoop-3.3.6\"\n",
        "!ln -s /content/hadoop-3.3.6/bin/* /usr/bin"
      ]
    },
    {
      "cell_type": "markdown",
      "source": [
        "# ***Create books_dataset.txt file***"
      ],
      "metadata": {
        "id": "549pWPXHWQJg"
      }
    },
    {
      "cell_type": "code",
      "source": [
        "%%writefile books_dataset.txt\n",
        "1,Agree.,Jeffrey Wright,2017,Spain,Spanish,269\n",
        "2,Camera result.,Richard Chandler,2018,Greece,German,884\n",
        "3,Opportunity left us.,Nathan Nelson,2021,Senegal,English,189\n",
        "4,Team I.,Renee Yang,2010,Cameroon,French,513\n",
        "5,Note represent.,Nathan Joyce,2020,Qatar,French,861\n",
        "6,Focus suddenly past.,Suzanne Dawson,2016,Malawi,Italian,753\n",
        "7,Boy bad.,Rachel Mclean,2023,Dominica,Italian,583\n",
        "8,Reduce bar may resource.,Jennifer Moore,2024,Saint Pierre and Miquelon,German,364\n",
        "9,On see join.,Denise Hanson,2019,Belarus,Spanish,380\n",
        "10,Soon front include.,Todd Sanchez,2023,Zimbabwe,Spanish,334\n",
        "11,Expert us.,Katelyn Alvarado,2024,Yemen,Spanish,121\n",
        "12,Think specific system.,Jill Soto,2014,Turks and Caicos Islands,Spanish,926\n",
        "13,Understand Congress.,Hayley Johnson,2019,Cote d'Ivoire,Spanish,899\n",
        "14,Simply business.,David Estrada,2013,Saint Vincent and the Grenadines,German,313\n",
        "15,Take baby.,Tara Stokes,2024,Falkland Islands (Malvinas),English,426\n",
        "16,Good century research.,Maxwell Green,2021,Bulgaria,Spanish,780\n",
        "17,Our imagine effort.,Jacqueline White PhD,2012,Belgium,Spanish,657\n",
        "18,Prove describe individual.,Stephen White,2016,United Kingdom,Italian,337\n",
        "19,High.,Anthony Moore,2010,Saint Helena,Italian,987\n",
        "20,Toward learn.,Larry Waters,2015,Faroe Islands,English,765\n",
        "21,Image available can.,Pamela Bond,2019,Guam,Italian,498\n",
        "22,Camera nor.,Jennifer Wright,2024,Guinea,Italian,695\n",
        "23,These hospital apply.,Justin Anderson,2010,Saint Helena,French,60\n",
        "24,Knowledge final.,Rodney Lewis,2021,Norfolk Island,German,181\n",
        "25,Human ask both.,Stephen Cain,2023,British Virgin Islands,Italian,109\n",
        "26,Pretty.,David Lynch,2010,French Polynesia,German,119\n",
        "27,Bag nearly.,Anne Pacheco,2015,Belize,Italian,460\n",
        "28,Occur knowledge science.,Bethany Doyle,2020,Spain,French,819\n",
        "29,Issue sell.,Jennifer Woodward,2021,Netherlands,German,423\n",
        "30,Well small near.,Mrs. Angela Arellano,2013,Samoa,German,377\n",
        "31,Key can.,Kimberly Brown,2014,Nigeria,Spanish,491\n",
        "32,Operation three.,Lindsay Hamilton,2021,Bhutan,Spanish,525\n",
        "33,Begin.,Michael Webb,2015,French Guiana,Spanish,794\n",
        "34,Area under name.,Laura Smith,2010,Aruba,English,646\n",
        "35,Style without challenge.,David Jones,2010,Monaco,Italian,186\n",
        "36,Personal other draw.,Julie Wood,2017,Western Sahara,French,793\n",
        "37,Easy.,Paul Reynolds,2021,Afghanistan,French,830\n",
        "38,Soldier fear resource.,James Gould,2017,Greenland,German,98\n",
        "39,Cut similar.,Megan Torres,2017,El Salvador,French,378\n",
        "40,Turn five put.,Debbie Gould,2024,Algeria,English,610\n",
        "41,End former.,Marcus Herring,2021,Norfolk Island,English,853\n",
        "42,See wide benefit.,Julie Paul,2014,Saudi Arabia,Italian,906\n",
        "43,Day forget.,Sheila Johnson,2018,Germany,German,672\n",
        "44,Deep thousand consider.,Bruce Page,2013,Swaziland,French,855\n",
        "45,Staff idea simple.,Heidi Thomas,2019,Guernsey,German,751\n",
        "46,Continue no.,Stephanie Franklin,2014,Mauritania,English,63\n",
        "47,Morning company benefit.,Kathleen Lopez,2012,Switzerland,Spanish,684\n",
        "48,Member nice.,Richard Wallace DDS,2016,Denmark,French,426\n",
        "49,Consider early.,Greg Harris,2014,Belarus,German,841\n",
        "50,Foreign include bag.,Christopher Lara,2024,Bhutan,German,341"
      ],
      "metadata": {
        "id": "YcRbC6Z9-oo0"
      },
      "execution_count": null,
      "outputs": []
    }
  ]
}