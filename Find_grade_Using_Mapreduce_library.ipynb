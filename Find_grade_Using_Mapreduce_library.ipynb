{
  "nbformat": 4,
  "nbformat_minor": 0,
  "metadata": {
    "colab": {
      "provenance": [],
      "authorship_tag": "ABX9TyMIR0enpSsUp+kfFAG79KA6",
      "include_colab_link": true
    },
    "kernelspec": {
      "name": "python3",
      "display_name": "Python 3"
    },
    "language_info": {
      "name": "python"
    }
  },
  "cells": [
    {
      "cell_type": "markdown",
      "metadata": {
        "id": "view-in-github",
        "colab_type": "text"
      },
      "source": [
        "<a href=\"https://colab.research.google.com/github/Anilesh05/Big_Data_Lab_Exam/blob/main/Find_grade_Using_Mapreduce_library.ipynb\" target=\"_parent\"><img src=\"https://colab.research.google.com/assets/colab-badge.svg\" alt=\"Open In Colab\"/></a>"
      ]
    },
    {
      "cell_type": "markdown",
      "source": [
        "# ***Downloading and installing hadoop***"
      ],
      "metadata": {
        "id": "Zi9bK5z88-Pc"
      }
    },
    {
      "cell_type": "code",
      "execution_count": null,
      "metadata": {
        "id": "Gp7HsNH56ldg"
      },
      "outputs": [],
      "source": [
        "!apt-get install openjdk-8-jdk\n",
        "!wget https://dlcdn.apache.org/hadoop/common/hadoop-3.3.6/hadoop-3.3.6.tar.gz\n",
        "!tar fx hadoop-3.3.6.tar.gz\n",
        "import os\n",
        "os.environ[\"JAVA_HOME\"] = \"/usr/lib/jvm/java-8-openjdk-amd64\"\n",
        "os.environ[\"HADOOP_HOME\"] = \"/content/hadoop-3.3.6\"\n",
        "!ln -s /content/hadoop-3.3.6/bin/* /usr/bin"
      ]
    },
    {
      "cell_type": "markdown",
      "source": [
        "# ***Create marksheet.txt file***\n"
      ],
      "metadata": {
        "id": "yxYjNtCmCtud"
      }
    },
    {
      "cell_type": "code",
      "source": [
        "%%writefile marksheet.txt\n",
        "\n",
        "01,John,85\n",
        "02,Emma,92\n",
        "03,Michael,78\n",
        "04,Sophia,60\n",
        "05,William,88\n",
        "06,Isabella,75\n",
        "07,James,90\n",
        "08,Olivia,82\n",
        "09,Alexander,70\n",
        "10,Ava,95\n",
        "11,Ethan,72\n",
        "12,Mia,86\n",
        "13,Daniel,81\n",
        "14,Charlotte,79\n",
        "15,Joseph,94\n",
        "16,Abigail,87\n",
        "17,David,76\n",
        "18,Emily,93\n",
        "19,Benjamin,83\n",
        "20,Harper,77\n",
        "21,Matthew,91\n",
        "22,Elizabeth,84\n",
        "23,Jackson,34\n",
        "24,Ella,89\n",
        "25,Samuel,80\n",
        "26,Avery,96\n",
        "27,Henry,73\n",
        "28,Scarlett,97\n",
        "29,Gabriel,68\n",
        "30,Victoria,98\n",
        "31,Andrew,40\n",
        "32,Grace,99\n",
        "33,Ryan,65\n",
        "34,Chloe,100\n",
        "35,Lucas,66\n",
        "36,Sofia,98\n",
        "37,Christopher,67\n",
        "38,Liam,97\n",
        "39,Evelyn,64\n",
        "40,Dylan,96"
      ],
      "metadata": {
        "id": "1kuRzPvsBLvl"
      },
      "execution_count": null,
      "outputs": []
    }
  ]
}